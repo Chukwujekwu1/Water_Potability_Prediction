{
 "cells": [
  {
   "cell_type": "markdown",
   "metadata": {},
   "source": [
    "Water Quality Dataset\n",
    "This dataset contains information about water quality features and potability. It consists of 3276 entries with 10 columns:\n",
    "pH: pH of the water (measured in pH units).\n",
    "Hardness: Hardness of the water (measured in mg/L).\n",
    "Solids: Total dissolved solids in the water (measured in ppm).\n",
    "Chloramines: Amount of chloramines in the water (measured in ppm).\n",
    "Sulfate: Amount of sulfate in the water (measured in mg/L).\n",
    "Conductivity: Conductivity of the water (measured in μS/cm).\n",
    "Organic_carbon: Amount of organic carbon in the water (measured in ppm).\n",
    "Trihalomethanes: Amount of trihalomethanes in the water (measured in μg/L).\n",
    "Turbidity: Turbidity of the water (measured in NTU).\n",
    "Potability: Potability of the water (1 indicates potable, 0 indicates non-potable).\n",
    "Summary Statistics:\n",
    "\n",
    "The dataset contains 3276 entries.\n",
    "The columns \"pH\", \"Sulfate\", and \"Trihalomethanes\" have missing values.\n",
    "The data types of the columns are float64 for features and int64 for the target variable (Potability).\n",
    "Usage:\n",
    "\n",
    "This dataset can be used for various tasks, including:\n",
    "Exploratory data analysis (EDA) to understand the distributions and relationships between features.\n",
    "Predictive modeling to predict water potability based on its features.\n",
    "Feature engineering to create new features or handle missing values.\n",
    "Model evaluation to assess the performance of machine learning models in predicting water potability."
   ]
  }
 ],
 "metadata": {
  "language_info": {
   "name": "python"
  }
 },
 "nbformat": 4,
 "nbformat_minor": 2
}
